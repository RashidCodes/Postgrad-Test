{
 "cells": [
  {
   "cell_type": "markdown",
   "metadata": {},
   "source": [
    "<h1 style=\"font-size: 3.5rem\"> Most data scientists possess postgraduate degrees. How true is this statement?</h1>"
   ]
  },
  {
   "cell_type": "markdown",
   "metadata": {},
   "source": [
    "This study uses a sample that consists of the educational qualifications of randomly selected data professionals on the linkedin social network to determine if statistically, most data scientists possess at least one postgraduate degree. Please take note of the assumptions made during the study. "
   ]
  },
  {
   "cell_type": "markdown",
   "metadata": {},
   "source": [
    "<h1>Assumptions</h1>"
   ]
  },
  {
   "cell_type": "markdown",
   "metadata": {},
   "source": [
    "1. A postgraduate degree is a <b>master's degree</b> or a <b>PhD</b>.\n",
    "2. Professionals who say they have a postgraduate degree actually have a postgraduate degree.\n",
    "3. Most data science professionals actually have linkedin profiles.\n",
    "4. The data scientists in the sample are actually data scientists.\n",
    "5. The sample is a simple random sample.\n",
    "6. Data scientists call themselves \"data scientists\" on their linkedin profiles."
   ]
  },
  {
   "cell_type": "markdown",
   "metadata": {},
   "source": [
    "<br/>"
   ]
  },
  {
   "cell_type": "markdown",
   "metadata": {},
   "source": [
    "<h1>The Data</h1>"
   ]
  },
  {
   "cell_type": "code",
   "execution_count": 276,
   "metadata": {},
   "outputs": [],
   "source": [
    "import pandas as pd\n",
    "import matplotlib.pyplot as plt\n",
    "import re"
   ]
  },
  {
   "cell_type": "code",
   "execution_count": 277,
   "metadata": {},
   "outputs": [],
   "source": [
    "education_df = pd.read_csv(\"education.csv\")\n",
    "\n",
    "# change the case of strings in the degree column\n",
    "education_df['Degree'] = education_df['Degree'].str.lower()"
   ]
  },
  {
   "cell_type": "code",
   "execution_count": 278,
   "metadata": {},
   "outputs": [
    {
     "data": {
      "text/html": [
       "<div>\n",
       "<style scoped>\n",
       "    .dataframe tbody tr th:only-of-type {\n",
       "        vertical-align: middle;\n",
       "    }\n",
       "\n",
       "    .dataframe tbody tr th {\n",
       "        vertical-align: top;\n",
       "    }\n",
       "\n",
       "    .dataframe thead th {\n",
       "        text-align: right;\n",
       "    }\n",
       "</style>\n",
       "<table border=\"1\" class=\"dataframe\">\n",
       "  <thead>\n",
       "    <tr style=\"text-align: right;\">\n",
       "      <th></th>\n",
       "      <th>Scientist</th>\n",
       "      <th>University</th>\n",
       "      <th>Degree</th>\n",
       "    </tr>\n",
       "  </thead>\n",
       "  <tbody>\n",
       "    <tr>\n",
       "      <th>0</th>\n",
       "      <td>62093db0-7628-4198-9048-82da9efb6863</td>\n",
       "      <td>Birla Institute of Technology and Science, Pilani</td>\n",
       "      <td>master of science - ms data science</td>\n",
       "    </tr>\n",
       "    <tr>\n",
       "      <th>1</th>\n",
       "      <td>62093db0-7628-4198-9048-82da9efb6863</td>\n",
       "      <td>JNTUH College of Engineering Hyderabad</td>\n",
       "      <td>b.tech electrical and electronics engineering</td>\n",
       "    </tr>\n",
       "    <tr>\n",
       "      <th>2</th>\n",
       "      <td>9442cb86-9853-4e7e-b9b1-ab145d3d71a4</td>\n",
       "      <td>National Institute of Technology Kurukshetra</td>\n",
       "      <td>bachelor of technology - btech computer science 8</td>\n",
       "    </tr>\n",
       "    <tr>\n",
       "      <th>3</th>\n",
       "      <td>17aadfcd-9fa9-4767-b24b-f23110a78cec</td>\n",
       "      <td>National Institutes of Health</td>\n",
       "      <td>postdoctoral fellow virtual colonoscopy comput...</td>\n",
       "    </tr>\n",
       "    <tr>\n",
       "      <th>4</th>\n",
       "      <td>17aadfcd-9fa9-4767-b24b-f23110a78cec</td>\n",
       "      <td>Polytechnic University of Bucharest</td>\n",
       "      <td>doctor of philosophy (phd) engineering sciences</td>\n",
       "    </tr>\n",
       "  </tbody>\n",
       "</table>\n",
       "</div>"
      ],
      "text/plain": [
       "                              Scientist  \\\n",
       "0  62093db0-7628-4198-9048-82da9efb6863   \n",
       "1  62093db0-7628-4198-9048-82da9efb6863   \n",
       "2  9442cb86-9853-4e7e-b9b1-ab145d3d71a4   \n",
       "3  17aadfcd-9fa9-4767-b24b-f23110a78cec   \n",
       "4  17aadfcd-9fa9-4767-b24b-f23110a78cec   \n",
       "\n",
       "                                          University  \\\n",
       "0  Birla Institute of Technology and Science, Pilani   \n",
       "1             JNTUH College of Engineering Hyderabad   \n",
       "2       National Institute of Technology Kurukshetra   \n",
       "3                      National Institutes of Health   \n",
       "4                Polytechnic University of Bucharest   \n",
       "\n",
       "                                              Degree  \n",
       "0                master of science - ms data science  \n",
       "1      b.tech electrical and electronics engineering  \n",
       "2  bachelor of technology - btech computer science 8  \n",
       "3  postdoctoral fellow virtual colonoscopy comput...  \n",
       "4    doctor of philosophy (phd) engineering sciences  "
      ]
     },
     "execution_count": 278,
     "metadata": {},
     "output_type": "execute_result"
    }
   ],
   "source": [
    "education_df.head()"
   ]
  },
  {
   "cell_type": "markdown",
   "metadata": {},
   "source": [
    "<br/>"
   ]
  },
  {
   "cell_type": "markdown",
   "metadata": {},
   "source": [
    "<h1>Utility functions</h1>"
   ]
  },
  {
   "cell_type": "code",
   "execution_count": 220,
   "metadata": {},
   "outputs": [],
   "source": [
    "def isPostGrad(qualification):\n",
    "    \"\"\"Checks if a degree is a postgraduate degree or not\n",
    "    \n",
    "    Parameters\n",
    "    ----------\n",
    "    qualification: str\n",
    "    The degree\n",
    "    \n",
    "    Returns\n",
    "    -------\n",
    "    True if the qualification is a postgraduate degree\n",
    "    False otherwise\n",
    "    \"\"\"\n",
    "    \n",
    "    qualification = str(qualification)\n",
    "    degrees = [\"master\", \"msc\", \"ms\", \"m.sci\", \"msci\", \"m.sc\", \"philosophy\", \"meng\", \"m.eng\", \"mhs\", \"mtech\", \\\n",
    "               \"m.tech\", \"m.a\", \"ma \" \"mba\", \"phd\", \"ph.d\", \"mmath\", \"m.s\", \"msee\", \"mse\", \"mstat\", \"dphil\", \\\n",
    "              \"mphys\", \"mres\", \"mds\", \"m.mgt\", \"m.e.\"]\n",
    "    \n",
    "    # filtering...\n",
    "    if \"micromasters\" in qualification:\n",
    "        return False\n",
    "    \n",
    "    if \"bachelor\" in qualification:\n",
    "        return False\n",
    "    \n",
    "    if \"graduate certificate\" in qualification:\n",
    "        return False\n",
    "    \n",
    "    for degree in degrees:\n",
    "        if degree in qualification:\n",
    "            return True\n",
    "        \n",
    "    return False\n",
    "    "
   ]
  },
  {
   "cell_type": "code",
   "execution_count": 210,
   "metadata": {},
   "outputs": [],
   "source": [
    "def includes(df, word: str):\n",
    "    \"\"\"Find degrees that contain a certain word\n",
    "    \n",
    "    Parameters\n",
    "    ----------\n",
    "    df: DataFrame\n",
    "    dataframe of educational qualifications\n",
    "    \"\"\"\n",
    "    filtered = df.loc[df['Degree'].str.contains(word)]\n",
    "    return filtered"
   ]
  },
  {
   "cell_type": "code",
   "execution_count": 273,
   "metadata": {},
   "outputs": [],
   "source": [
    "def degree_type(degree: str) -> bool:\n",
    "    \n",
    "    \"\"\"Determines the type of a degree\n",
    "    \n",
    "    Parameters\n",
    "    ----------\n",
    "    degree: str\n",
    "    \n",
    "    Degree\n",
    "    \n",
    "    \n",
    "    Returns\n",
    "    -------\n",
    "    degree_type: str\n",
    "    \n",
    "    The type of the degree\n",
    "    \n",
    "    \n",
    "    Notes\n",
    "    -----\n",
    "    Degrees can be classified into 5 categories namely:\n",
    "        - Science\n",
    "        - Engineering\n",
    "        - Technology\n",
    "        - Business\n",
    "        - Mathematics\n",
    "        - Arts\n",
    "        - PhD\n",
    "        - Others\n",
    "    \n",
    "    \"\"\"\n",
    "    \n",
    "    degree_type = \"\"\n",
    "    \n",
    "    # sciences\n",
    "    economics = re.search('economi\\w+', degree)\n",
    "    science = re.search('scien\\w+', degree)\n",
    "    info_tech = re.search('information tech\\w+', degree)\n",
    "    info_sys = re.search('information sys\\w+', degree)\n",
    "    stats = re.search('statisti.+', degree)\n",
    "    \n",
    "    # engineering\n",
    "    engineering = re.search('engine\\w+', degree)\n",
    "    \n",
    "    # tech\n",
    "    m_tech = re.search('m\\.te\\w+', degree)\n",
    "    mtech = re.search('mtec.+', degree)\n",
    "    has_mtech = m_tech or mtech\n",
    "    \n",
    "    # business\n",
    "    analytics = re.search('analyt\\w+', degree)\n",
    "    business = re.search('mba.*', degree)\n",
    "    has_business = analytics or business\n",
    "    \n",
    "    # mathematics\n",
    "    mathematics = re.search('math.+', degree)\n",
    "    econometrics = re.search('econome\\w+', degree)\n",
    "    has_math = mathematics or econometrics\n",
    "    \n",
    "    # arts\n",
    "    arts = re.search('art\\w+', degree)\n",
    "    \n",
    "    # phd\n",
    "    phd = re.search('phd.+', degree)\n",
    "    ph_d = re.search('ph.+', degree)\n",
    "    \n",
    "    has_phd = phd or ph_d\n",
    "    \n",
    "    \n",
    "    #-----\n",
    "    # PHD\n",
    "    #-----\n",
    "    \n",
    "    if has_phd:\n",
    "        degree_type = \"phd\"\n",
    "        return degree_type\n",
    "    \n",
    "    \n",
    "    #-------------\n",
    "    # MATHEMATICS\n",
    "    #-------------\n",
    "    \n",
    "    if has_math:\n",
    "        degree_type=\"math\"\n",
    "        return degree_type\n",
    "        \n",
    "        \n",
    "    #-------------\n",
    "    # ENGINEERING\n",
    "    #-------------\n",
    "    \n",
    "    if engineering:\n",
    "        degree_type=\"engineering\"\n",
    "        return degree_type\n",
    "        \n",
    "    \n",
    "    #------------\n",
    "    # TECHNOLOGY\n",
    "    #------------\n",
    "    \n",
    "    if has_mtech:\n",
    "        degree_type = \"technology\"\n",
    "        return degree_type\n",
    "        \n",
    "    \n",
    "    #----------\n",
    "    # BUSINESS\n",
    "    #----------\n",
    "    \n",
    "    if has_business:\n",
    "        degree_type=\"business\"\n",
    "        return degree_type\n",
    "        \n",
    "    \n",
    "    #------\n",
    "    # ARTS\n",
    "    #------\n",
    "    \n",
    "    if arts:\n",
    "        degree_type=\"arts\"\n",
    "        return degree_type\n",
    "        \n",
    "        \n",
    "    #----------\n",
    "    # SCIENCES\n",
    "    #----------\n",
    "\n",
    "    if science or economics or info_tech or info_sys or stats:\n",
    "        degree_type=\"science\"\n",
    "        return degree_type\n",
    "    \n",
    "    \n",
    "    return \"other\"\n",
    "        "
   ]
  },
  {
   "cell_type": "code",
   "execution_count": 274,
   "metadata": {},
   "outputs": [
    {
     "data": {
      "text/plain": [
       "'science'"
      ]
     },
     "execution_count": 274,
     "metadata": {},
     "output_type": "execute_result"
    }
   ],
   "source": [
    "degree_type('master of science - ms data science')"
   ]
  },
  {
   "cell_type": "markdown",
   "metadata": {},
   "source": [
    "<br/>"
   ]
  },
  {
   "cell_type": "markdown",
   "metadata": {},
   "source": [
    "<h1>Finding Postgraduate degrees</h1>"
   ]
  },
  {
   "cell_type": "code",
   "execution_count": 279,
   "metadata": {},
   "outputs": [],
   "source": [
    "education_df['isPostGrad'] = education_df['Degree'].apply(isPostGrad)"
   ]
  },
  {
   "cell_type": "code",
   "execution_count": 280,
   "metadata": {},
   "outputs": [],
   "source": [
    "postgrad_df = education_df[education_df['isPostGrad'] == True]"
   ]
  },
  {
   "cell_type": "code",
   "execution_count": 281,
   "metadata": {},
   "outputs": [
    {
     "name": "stdout",
     "output_type": "stream",
     "text": [
      "There are approximately 895 professionals with at least one postgraduate degree.\n"
     ]
    }
   ],
   "source": [
    "postgrads = postgrad_df['Scientist'].unique().shape[0]\n",
    "print(\"There are approximately {} professionals with at least one postgraduate degree.\".format(postgrads))"
   ]
  },
  {
   "cell_type": "code",
   "execution_count": null,
   "metadata": {},
   "outputs": [],
   "source": [
    "# checking for the presence of some unwanted strings\n",
    "includes(postgrad_df, 'b.s')"
   ]
  },
  {
   "cell_type": "code",
   "execution_count": 225,
   "metadata": {},
   "outputs": [],
   "source": [
    "# exporting postgrads for EDA\n",
    "postgrad_df.to_csv('postgrads.csv', index=False)"
   ]
  },
  {
   "cell_type": "markdown",
   "metadata": {},
   "source": [
    "<br/>"
   ]
  },
  {
   "cell_type": "markdown",
   "metadata": {},
   "source": [
    "<h1>Formula Sheet</h1>\n",
    "\n",
    "<img src=\"Formula Sheet.png\" />"
   ]
  },
  {
   "cell_type": "markdown",
   "metadata": {},
   "source": [
    "<h1>Hypothesis Test</h1>\n",
    "\n",
    "This is a fixed alpha test with <b style=\"font-size: 2.5rem; font-weight:700\">$\\alpha = 0.1$</b>"
   ]
  },
  {
   "cell_type": "markdown",
   "metadata": {},
   "source": [
    "<p style=\"font-weight: 700; font-size:2rem;\">$H_{o}: p = 0.70$</p>\n",
    "\n",
    "70% of data science professionals possess at least one postgraduate degree. The proportion is the same and any sample difference is due to <b>sampling error</b>.\n",
    "\n",
    "<br/>\n",
    "\n",
    "<p style=\"font-weight: bold; font-size:2rem;\">$H_{A}: p \\neq 0.70$ </p>\n",
    "\n",
    "70% of data science professionals <b>do not</b> possess at least one postgraduate degree. The proportion has changed and <b>any sample difference is real</b>.\n",
    "\n",
    "\n",
    "<b><i>This hypothesis test is therefore a two-tailed test.</i></b>"
   ]
  },
  {
   "cell_type": "markdown",
   "metadata": {},
   "source": [
    "<br/>"
   ]
  },
  {
   "cell_type": "markdown",
   "metadata": {},
   "source": [
    "<h3>Check for assumptions</h3>\n",
    "\n",
    "1. The sample is random\n",
    "2. The sample size is less than 10% of the population size.\n",
    "3. Each sample is independent.\n",
    "4. $np_{o} \\geq 10$ and $n(1-p_{o}) \\geq 10$ where $p_{o}$ is the value of p in $H_{o}$."
   ]
  },
  {
   "cell_type": "markdown",
   "metadata": {},
   "source": [
    "In the sample, $895$ of $1200$ professionals were found to have postgraduate degrees.\n",
    "\n",
    "\n",
    "<h4>Sample proportion</h4>\n",
    "\n",
    "<p style=\"font-weight: bold; font-size: 2rem; text-align: center\">$\\hat{p} = \\frac {895} {1200} = 0.745$</p>\n",
    "\n",
    "How unusual is the observed $\\hat{p}$?\n",
    "\n",
    "<br/>\n",
    "\n",
    "<h4>Test Statistic for a test of proportions</h4>\n",
    "\n",
    "<p style=\"font-size: 2rem; text-align: center; font-weight:600\">$z = \\frac {statistic - parameter} {SD(statistic)} $</p>\n",
    "\n",
    "<br/>\n",
    "\n",
    "<p style=\"font-size:2rem; text-align:center;\">$SD(\\hat{p}) = \\sqrt \\frac {0.7 \\times 0.3} {1200} = 0.013229$</p>\n",
    "\n",
    "<br/>\n",
    "\n",
    "<p style=\"font-size: 2rem; text-align: center;\">$\\therefore z = \\frac {0.745 - 0.7} {0.013229} = 3.40$</p>\n",
    "\n",
    "<br/>\n",
    "\n",
    "Using the Z-score table,\n",
    "<p style=\"font-size:2rem; text-align:center\">$P- value = 0.9994$</p>\n",
    "\n",
    "Where\n",
    "\n",
    "- $\\hat{p}$ is the statistic\n",
    "- <b>$p_{o}$</b> is the parameter.\n",
    "- $SD(statistic)$ is the standard deviation of the statistic which can be calculated using the formula sheet above.\n",
    "\n"
   ]
  },
  {
   "cell_type": "markdown",
   "metadata": {},
   "source": [
    "<br/>"
   ]
  },
  {
   "cell_type": "markdown",
   "metadata": {},
   "source": [
    "<h1>Predicting the actual proportion</h1>\n",
    "\n",
    "In this section, statistical methods are used to estimate the true population proportion of data scientists that possess at least one postgraduate degree with a 95% confidence interval."
   ]
  },
  {
   "cell_type": "markdown",
   "metadata": {},
   "source": [
    "<h2>Confidence Intervals</h2>\n",
    "\n",
    "<br/>\n",
    "\n",
    "<b style=\"font-size: 1.5rem\">CI</b> = <b>statistic</b> $\\pm$ <b>critical value</b> $\\times$ <b>S.E(statistic)</b>\n",
    "\n",
    "<b>statistic</b> = $\\hat{p}$\n",
    "\n",
    "<b>critical value</b> at 95% Confidence = $1.960$\n",
    "\n",
    "<b style=\"font-size: 2rem; font-weight: bold\">$S.E(\\hat{p}) = \\sqrt \\frac {\\hat{p}\\hat{q}} {n}$</b>\n",
    "\n",
    "So,\n",
    "\n",
    "<p style=\"font-size:2rem; text-align:center;\">$S.E(\\hat{p}) = \\sqrt \\frac {0.745 \\times 0.255} {1200} = 0.01258222$</p>\n",
    "\n",
    "$\\therefore$ The proportion of data scientists that possess a postgraduate degree is <b style=\"font-size: 2rem; font-weight: bold\">$0.745 \\pm 0.025$</b>"
   ]
  },
  {
   "cell_type": "markdown",
   "metadata": {},
   "source": [
    "<br/>"
   ]
  },
  {
   "cell_type": "markdown",
   "metadata": {},
   "source": [
    "<h1>Conclusions</h1>"
   ]
  },
  {
   "cell_type": "markdown",
   "metadata": {},
   "source": [
    "- The P-value is almost 1.\n",
    "\n",
    "\n",
    "- If the population proportion is $0.70$, it is highly likely (0.9994) to observe 895 out of 1200 professionals that possess a postgraduate degree.\n",
    "\n",
    "\n",
    "- There is insufficient evidence that the proportion of professionals that possess at least one postgraduate degrees is not 70% with a 10% level of significance.\n",
    "\n",
    "\n",
    "- Looks like most data scientists indeed possess a postgraduate degree of some sort.\n",
    "\n",
    "\n",
    "- Around 72% to 77% of data scientists possess at least a postgraduate degree."
   ]
  },
  {
   "cell_type": "markdown",
   "metadata": {},
   "source": [
    "<br/>"
   ]
  },
  {
   "cell_type": "markdown",
   "metadata": {},
   "source": [
    "<h1>Recommendations</h1>\n",
    "\n",
    "A better degree-filtering algorithm can be developed for a more accurate determination of postgraduate degrees. "
   ]
  },
  {
   "cell_type": "markdown",
   "metadata": {},
   "source": [
    "<br/>"
   ]
  },
  {
   "cell_type": "markdown",
   "metadata": {},
   "source": [
    "<br/>"
   ]
  },
  {
   "cell_type": "markdown",
   "metadata": {},
   "source": [
    "<h1>Visualization</h1>"
   ]
  },
  {
   "cell_type": "code",
   "execution_count": 232,
   "metadata": {},
   "outputs": [],
   "source": [
    "postgrad_df = pd.read_csv('Modified Postgrads.csv')\n",
    "\n",
    "grouped = postgrad_df.groupby('type of degree').count()['Scientist']"
   ]
  },
  {
   "cell_type": "code",
   "execution_count": 241,
   "metadata": {},
   "outputs": [],
   "source": [
    "degrees = grouped.index"
   ]
  },
  {
   "cell_type": "code",
   "execution_count": 270,
   "metadata": {},
   "outputs": [
    {
     "data": {
      "image/png": "[encoded data removed]",
      "text/plain": [
       "<Figure size 576x576 with 1 Axes>"
      ]
     },
     "metadata": {
      "needs_background": "light"
     },
     "output_type": "display_data"
    }
   ],
   "source": [
    "fig, ax = plt.subplots(figsize=(8,8))\n",
    "plt.bar(degrees, grouped.values, color=\"steelblue\", linewidth=\"2\", edgecolor='k')\n",
    "plt.xticks(rotation=20)\n",
    "plt.xlabel('Degree types')\n",
    "plt.ylabel('Frequency')\n",
    "plt.title('Bar chart of degree types')\n",
    "plt.show()"
   ]
  },
  {
   "cell_type": "code",
   "execution_count": 267,
   "metadata": {},
   "outputs": [
    {
     "name": "stdout",
     "output_type": "stream",
     "text": [
      "Business: 8.971%\n",
      "Arts: 2.798%\n",
      "Engineering: 12.016%\n",
      "Math: 6.502%\n",
      "PhD: 28.477%\n",
      "Science: 32.593%\n",
      "Technology: 1.070%\n",
      "Others: 7.572%\n"
     ]
    }
   ],
   "source": [
    "# Proportions\n",
    "total = grouped.sum()\n",
    "business = grouped.loc['business']/total\n",
    "arts = grouped.loc['arts']/total\n",
    "engineering = grouped.loc['engineering']/total\n",
    "math = grouped.loc['math']/total\n",
    "other = grouped.loc['other']/total\n",
    "phd = grouped.loc['phd']/total\n",
    "science = grouped.loc['science']/total\n",
    "tech = grouped.loc['technology']/total\n",
    "\n",
    "print(\"Business: {:.3f}%\".format(business*100))\n",
    "print('Arts: {:.3f}%'.format(arts*100))\n",
    "print(\"Engineering: {:.3f}%\".format(engineering*100))\n",
    "print(\"Math: {:.3f}%\".format(math*100))\n",
    "print(\"PhD: {:.3f}%\".format(phd*100))\n",
    "print(\"Science: {:.3f}%\".format(science*100))\n",
    "print(\"Technology: {:.3f}%\".format(tech*100))\n",
    "print(\"Others: {:.3f}%\".format(other*100))"
   ]
  },
  {
   "cell_type": "markdown",
   "metadata": {},
   "source": [
    "<h2>Conclusions</h2>\n",
    "\n",
    "- Even though most professionals have <b>Master of Science</b> degrees ($32.6\\%$), it appears that many professionals also possess <b>PhD's</b> ($28.477\\%$).\n",
    "\n",
    "\n",
    "- Interestingly, only $6.50\\%$ of the professionals studied for a <b>Math</b> degree. \n",
    "\n",
    "\n",
    "- A substantial percentage ($12.02\\%$) of data scientists also possess an <b>Engineering</b> postgraduate degree.\n",
    "\n",
    "\n",
    "- There are not many data scientists that have a <b>Technology</b> postgraduate degree. Only $1.07\\%$ professionals fall in this category.\n",
    "\n",
    "\n",
    "- Lastly, only $2.798\\%$ of professionals have <b>Art</b> postgraduate degrees."
   ]
  },
  {
   "cell_type": "markdown",
   "metadata": {},
   "source": [
    "<br/>"
   ]
  }
 ],
 "metadata": {
  "hide_input": false,
  "kernelspec": {
   "display_name": "Python 3",
   "language": "python",
   "name": "python3"
  },
  "language_info": {
   "codemirror_mode": {
    "name": "ipython",
    "version": 3
   },
   "file_extension": ".py",
   "mimetype": "text/x-python",
   "name": "python",
   "nbconvert_exporter": "python",
   "pygments_lexer": "ipython3",
   "version": "3.6.3"
  },
  "toc": {
   "base_numbering": 1,
   "nav_menu": {},
   "number_sections": false,
   "sideBar": true,
   "skip_h1_title": false,
   "title_cell": "Table of Contents",
   "title_sidebar": "Contents",
   "toc_cell": false,
   "toc_position": {
    "height": "calc(100% - 180px)",
    "left": "10px",
    "top": "150px",
    "width": "336px"
   },
   "toc_section_display": true,
   "toc_window_display": false
  },
  "varInspector": {
   "cols": {
    "lenName": 16,
    "lenType": 16,
    "lenVar": 40
   },
   "kernels_config": {
    "python": {
     "delete_cmd_postfix": "",
     "delete_cmd_prefix": "del ",
     "library": "var_list.py",
     "varRefreshCmd": "print(var_dic_list())"
    },
    "r": {
     "delete_cmd_postfix": ") ",
     "delete_cmd_prefix": "rm(",
     "library": "var_list.r",
     "varRefreshCmd": "cat(var_dic_list()) "
    }
   },
   "types_to_exclude": [
    "module",
    "function",
    "builtin_function_or_method",
    "instance",
    "_Feature"
   ],
   "window_display": false
  }
 },
 "nbformat": 4,
 "nbformat_minor": 2
}
